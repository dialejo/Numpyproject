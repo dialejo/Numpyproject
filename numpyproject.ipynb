{
  "nbformat": 4,
  "nbformat_minor": 0,
  "metadata": {
    "colab": {
      "provenance": [],
      "authorship_tag": "ABX9TyO+VR/ypz8eVAQYo62ds4GM",
      "include_colab_link": true
    },
    "kernelspec": {
      "name": "python3",
      "display_name": "Python 3"
    },
    "language_info": {
      "name": "python"
    }
  },
  "cells": [
    {
      "cell_type": "markdown",
      "metadata": {
        "id": "view-in-github",
        "colab_type": "text"
      },
      "source": [
        "<a href=\"https://colab.research.google.com/github/dialejo/Numpyproject/blob/main/numpyproject.ipynb\" target=\"_parent\"><img src=\"https://colab.research.google.com/assets/colab-badge.svg\" alt=\"Open In Colab\"/></a>"
      ]
    },
    {
      "cell_type": "code",
      "execution_count": 4,
      "metadata": {
        "colab": {
          "base_uri": "https://localhost:8080/"
        },
        "id": "7mVwHFeRbhyl",
        "outputId": "dbb32fdc-09d9-4c07-e96c-ca6eaee9c50b"
      },
      "outputs": [
        {
          "output_type": "execute_result",
          "data": {
            "text/plain": [
              "array([2002, 2006, 2010, 2014, 2018, 2022, 2026, 2030, 2034, 2038, 2042,\n",
              "       2046, 2050, 2054, 2058, 2062, 2066, 2070, 2074, 2078, 2082, 2086,\n",
              "       2090, 2094, 2098, 2102])"
            ]
          },
          "metadata": {},
          "execution_count": 4
        }
      ],
      "source": [
        "import numpy as np\n",
        "\n",
        "ano_inicial = 2002\n",
        "ano_final = 2102\n",
        "\n",
        "np.arange(ano_inicial, ano_final + 1,4)"
      ]
    },
    {
      "cell_type": "code",
      "source": [
        "import numpy as np\n",
        "\n"
      ],
      "metadata": {
        "id": "a8Umu2bZewwW"
      },
      "execution_count": 4,
      "outputs": []
    },
    {
      "cell_type": "code",
      "source": [
        "url = 'https://gist.githubusercontent.com/ahcamachod/41b8a65c5e5b58125401deafb68af460/raw/f84320f69efa1cc3e86e1db054422cfa4869c63e/manzanas.csv'"
      ],
      "metadata": {
        "id": "BSmLpcYie4W0"
      },
      "execution_count": 1,
      "outputs": []
    },
    {
      "cell_type": "code",
      "source": [
        "#data tiene 3 años y 3 meses lo que son 87 meses se colo 87 +1 debido a la inclusividad\n",
        "np.arange(1,88)"
      ],
      "metadata": {
        "colab": {
          "base_uri": "https://localhost:8080/"
        },
        "id": "dxi-k6sAgWge",
        "outputId": "7254c64a-d8d6-4cea-d442-b9c4dafbc7ed"
      },
      "execution_count": 5,
      "outputs": [
        {
          "output_type": "execute_result",
          "data": {
            "text/plain": [
              "array([ 1,  2,  3,  4,  5,  6,  7,  8,  9, 10, 11, 12, 13, 14, 15, 16, 17,\n",
              "       18, 19, 20, 21, 22, 23, 24, 25, 26, 27, 28, 29, 30, 31, 32, 33, 34,\n",
              "       35, 36, 37, 38, 39, 40, 41, 42, 43, 44, 45, 46, 47, 48, 49, 50, 51,\n",
              "       52, 53, 54, 55, 56, 57, 58, 59, 60, 61, 62, 63, 64, 65, 66, 67, 68,\n",
              "       69, 70, 71, 72, 73, 74, 75, 76, 77, 78, 79, 80, 81, 82, 83, 84, 85,\n",
              "       86, 87])"
            ]
          },
          "metadata": {},
          "execution_count": 5
        }
      ]
    },
    {
      "cell_type": "code",
      "source": [
        "datos = np.loadtxt(url,delimiter=',',usecols=np.arange(1,88,1))"
      ],
      "metadata": {
        "id": "_vc-QgiQgg3N"
      },
      "execution_count": 7,
      "outputs": []
    },
    {
      "cell_type": "markdown",
      "source": [
        " convertir una lista en un array Numpy:"
      ],
      "metadata": {
        "id": "JIdzQh0Hw3p1"
      }
    },
    {
      "cell_type": "code",
      "source": [
        "import numpy as np\n",
        "\n",
        "# crea una lista\n",
        "lista = [1, 2, 3, 4, 5]\n",
        "\n",
        "# convierte la lista en un array Numpy\n",
        "array = np.array(lista)\n",
        "\n",
        "print(\"Lista: \", lista)\n",
        "print(\"Array: \", array)\n"
      ],
      "metadata": {
        "colab": {
          "base_uri": "https://localhost:8080/"
        },
        "id": "e6dWcm6Bgpc7",
        "outputId": "412934b0-43ed-46a3-f915-c413e3e1e094"
      },
      "execution_count": 8,
      "outputs": [
        {
          "output_type": "stream",
          "name": "stdout",
          "text": [
            "Lista:  [1, 2, 3, 4, 5]\n",
            "Array:  [1 2 3 4 5]\n"
          ]
        }
      ]
    },
    {
      "cell_type": "markdown",
      "source": [
        "Centrándonos en la eficiencia, podemos comparar el tiempo necesario para realizar un cálculo utilizando listas y arrays."
      ],
      "metadata": {
        "id": "ZUcijvA5xUvR"
      }
    },
    {
      "cell_type": "code",
      "source": [
        "import time\n",
        "\n",
        "# crea una lista con 1000000 elementos\n",
        "lista = list(range(1000000))\n",
        "\n",
        "# convierte la lista en un array Numpy\n",
        "array = np.array(lista)\n",
        "\n",
        "# comienza a medir el tiempo para la operación con la lista\n",
        "start_time = time.time()\n",
        "\n",
        "# realiza la operación de elevar al cuadrado cada elemento de la lista\n",
        "lista_cuadrado = [i**2 for i in lista]\n",
        "\n",
        "# detiene el cronómetro\n",
        "tiempo_lista = time.time() - start_time\n",
        "\n",
        "# comienza a medir el tiempo para la operación con el array\n",
        "start_time = time.time()\n",
        "\n",
        "# realiza la operación de elevar al cuadrado cada elemento del array\n",
        "array_cuadrado = array**2\n",
        "\n",
        "# detiene el cronómetro\n",
        "tiempo_array = time.time() - start_time\n",
        "\n",
        "print(\"Tiempo de la operación con la lista: \", tiempo_lista)\n",
        "print(\"Tiempo de la operación con el array: \", tiempo_array)\n"
      ],
      "metadata": {
        "colab": {
          "base_uri": "https://localhost:8080/"
        },
        "id": "z1pzruuwxTfD",
        "outputId": "b036656b-858b-4df6-a8f6-5e6b2413c4ab"
      },
      "execution_count": 9,
      "outputs": [
        {
          "output_type": "stream",
          "name": "stdout",
          "text": [
            "Tiempo de la operación con la lista:  0.07177138328552246\n",
            "Tiempo de la operación con el array:  0.0038428306579589844\n"
          ]
        }
      ]
    },
    {
      "cell_type": "markdown",
      "source": [
        "#Métodos básicos para explorar Arrays"
      ],
      "metadata": {
        "id": "1eZKlripyhVn"
      }
    },
    {
      "cell_type": "code",
      "source": [
        "datos.ndim"
      ],
      "metadata": {
        "colab": {
          "base_uri": "https://localhost:8080/"
        },
        "id": "B1pd4msyygjX",
        "outputId": "02cf300f-24cf-4810-948a-4b9819333ede"
      },
      "execution_count": 10,
      "outputs": [
        {
          "output_type": "execute_result",
          "data": {
            "text/plain": [
              "2"
            ]
          },
          "metadata": {},
          "execution_count": 10
        }
      ]
    },
    {
      "cell_type": "code",
      "source": [
        "datos.shape"
      ],
      "metadata": {
        "colab": {
          "base_uri": "https://localhost:8080/"
        },
        "id": "0j_X3y9_y0Ow",
        "outputId": "a4948974-e327-4f02-a731-d75b7bf8620b"
      },
      "execution_count": 11,
      "outputs": [
        {
          "output_type": "execute_result",
          "data": {
            "text/plain": [
              "(6, 87)"
            ]
          },
          "metadata": {},
          "execution_count": 11
        }
      ]
    },
    {
      "cell_type": "markdown",
      "source": [
        "visualizacion mas facil:"
      ],
      "metadata": {
        "id": "B2tSfwe5zFlv"
      }
    },
    {
      "cell_type": "code",
      "source": [
        "datos_transpuestos = datos.T"
      ],
      "metadata": {
        "id": "oL6rkBUFy2zF"
      },
      "execution_count": 13,
      "outputs": []
    },
    {
      "cell_type": "code",
      "source": [
        "datos_transpuestos"
      ],
      "metadata": {
        "colab": {
          "base_uri": "https://localhost:8080/"
        },
        "id": "90kDtWCGzWtV",
        "outputId": "6c00fe6b-b694-434d-97b6-0053a5c622ca"
      },
      "execution_count": 14,
      "outputs": [
        {
          "output_type": "execute_result",
          "data": {
            "text/plain": [
              "array([[  1.2013,  79.72  ,  42.67  ,  62.55  ,  48.26  ,  71.25  ],\n",
              "       [  2.2013,  81.08  ,  44.37  ,  62.73  ,  51.01  ,  71.35  ],\n",
              "       [  3.2013,  79.68  ,  44.73  ,  63.43  ,  50.91  ,  70.9   ],\n",
              "       [  4.2013,  79.8   ,  46.75  ,  63.83  ,  53.94  ,  71.92  ],\n",
              "       [  5.2013,  80.63  ,      nan,  66.06  ,  61.27  ,  72.91  ],\n",
              "       [  6.2013,  80.8   ,  51.59  ,  69.22  ,  65.44  ,  74.39  ],\n",
              "       [  7.2013,  80.28  ,  57.8   ,  72.07  ,  56.51  ,  73.1   ],\n",
              "       [  8.2013,  78.99  ,  62.14  ,  69.31  ,  53.    ,  70.24  ],\n",
              "       [  9.2013,  76.77  ,  56.76  ,  65.18  ,  43.87  ,  69.12  ],\n",
              "       [ 10.2013,  76.09  ,  50.85  ,  62.13  ,  42.12  ,  68.98  ],\n",
              "       [ 11.2013,  76.36  ,  46.43  ,  64.17  ,  43.98  ,  68.58  ],\n",
              "       [ 12.2013,  77.16  ,  46.73  ,  65.5   ,  44.66  ,  69.5   ],\n",
              "       [  1.2014,  77.5   ,  45.85  ,  66.85  ,  47.73  ,  70.14  ],\n",
              "       [  2.2014,  79.03  ,  49.25  ,  68.38  ,  52.31  ,  70.58  ],\n",
              "       [  3.2014,  80.28  ,  48.14  ,  68.77  ,  56.8   ,  70.78  ],\n",
              "       [  4.2014,  80.05  ,  49.18  ,  69.32  ,  51.15  ,  72.78  ],\n",
              "       [  5.2014,  78.11  ,  49.49  ,  69.77  ,  54.63  ,  72.84  ],\n",
              "       [  6.2014,  76.9   ,  49.83  ,  70.17  ,  55.8   ,  74.74  ],\n",
              "       [  7.2014,  77.68  ,  49.14  ,  70.76  ,  57.31  ,  76.43  ],\n",
              "       [  8.2014,  76.05  ,  63.21  ,  75.16  ,  53.81  ,  81.2   ],\n",
              "       [  9.2014,  75.53  ,  61.2   ,  74.86  ,  55.5   ,  82.04  ],\n",
              "       [ 10.2014,  73.39  ,  60.34  ,  71.47  ,  52.95  ,  79.67  ],\n",
              "       [ 11.2014,  78.36  ,  62.2   ,  76.08  ,  53.29  ,  81.25  ],\n",
              "       [ 12.2014,  89.16  ,  74.2   ,  82.11  ,  54.86  ,  85.88  ],\n",
              "       [  1.2015, 105.43  ,  75.32  ,  94.63  ,  71.72  ,  91.35  ],\n",
              "       [  2.2015, 104.82  ,  75.92  ,  98.54  ,  74.36  , 101.32  ],\n",
              "       [  3.2015, 101.15  ,  72.89  ,  97.84  ,  78.25  , 102.45  ],\n",
              "       [  4.2015,  98.63  ,  74.85  ,  94.54  ,  70.63  ,  98.18  ],\n",
              "       [  5.2015,  99.96  ,  92.19  ,  97.88  ,  77.06  , 105.1   ],\n",
              "       [  6.2015,  97.29  ,  99.7   ,  97.73  ,  81.52  , 104.85  ],\n",
              "       [  7.2015,  98.64  , 102.78  , 100.89  ,  84.12  , 111.48  ],\n",
              "       [  8.2015, 104.26  ,  92.67  , 104.88  ,  83.33  , 118.51  ],\n",
              "       [  9.2015, 102.63  ,  90.63  , 104.39  ,  66.98  , 118.92  ],\n",
              "       [ 10.2015,  98.64  ,  83.31  , 101.9   ,  62.04  , 109.87  ],\n",
              "       [ 11.2015,  97.17  ,  75.5   ,  98.99  ,  59.79  , 105.22  ],\n",
              "       [ 12.2015,  98.09  ,  74.6   ,  99.42  ,  66.06  , 105.45  ],\n",
              "       [  1.2016, 103.07  ,  76.94  , 106.37  ,  71.99  , 115.61  ],\n",
              "       [  2.2016, 110.26  ,  83.04  , 113.89  ,  76.79  , 116.61  ],\n",
              "       [  3.2016, 110.84  ,  80.74  , 114.78  ,  80.98  , 120.39  ],\n",
              "       [  4.2016, 112.28  ,  80.29  , 115.6   ,  89.18  , 119.2   ],\n",
              "       [  5.2016, 111.1   ,  82.82  , 115.89  ,  92.71  , 119.92  ],\n",
              "       [  6.2016, 110.06  ,  86.29  , 117.66  ,  94.85  , 120.57  ],\n",
              "       [  7.2016, 113.7   ,  87.41  , 118.27  ,  99.18  , 123.37  ],\n",
              "       [  8.2016, 112.88  ,  85.1   , 114.19  ,  86.33  , 121.39  ],\n",
              "       [  9.2016, 102.08  ,  78.08  , 101.81  ,  71.94  , 118.16  ],\n",
              "       [ 10.2016,  95.54  ,  76.06  ,  91.62  ,  67.18  , 108.84  ],\n",
              "       [ 11.2016,  91.33  ,  69.23  ,  90.15  ,  62.98  , 100.78  ],\n",
              "       [ 12.2016,  89.99  ,  69.04  ,  90.55  ,  69.45  ,  99.92  ],\n",
              "       [  1.2017,  91.44  ,  64.48  ,  92.3   ,  67.56  , 100.65  ],\n",
              "       [  2.2017,  93.51  ,  65.73  ,  91.75  ,  67.92  ,  98.92  ],\n",
              "       [  3.2017,  93.6   ,  67.2   ,  92.    ,  68.4   , 100.31  ],\n",
              "       [  4.2017,  93.78  ,  70.25  ,  92.57  ,  67.97  ,  96.41  ],\n",
              "       [  5.2017,  98.91  ,  82.59  , 100.28  ,  76.33  , 101.24  ],\n",
              "       [  6.2017, 121.76  ,  92.12  , 114.33  ,  95.79  , 118.7   ],\n",
              "       [  7.2017, 129.6   , 100.82  , 122.17  , 112.36  , 133.29  ],\n",
              "       [  8.2017, 127.9   ,  95.23  , 117.83  ,  82.03  , 130.31  ],\n",
              "       [  9.2017, 114.55  ,  89.51  , 112.49  ,  73.83  , 122.4   ],\n",
              "       [ 10.2017, 101.88  ,  82.84  ,  93.7   ,  66.12  , 104.98  ],\n",
              "       [ 11.2017,  99.09  ,  82.3   ,  97.17  ,  63.24  , 107.54  ],\n",
              "       [ 12.2017, 103.35  ,  83.76  ,  95.64  ,  63.98  , 110.74  ],\n",
              "       [  1.2018, 106.58  ,  84.72  , 102.21  ,  69.1   , 110.51  ],\n",
              "       [  2.2018, 108.    ,  83.91  , 107.58  ,  70.04  , 111.46  ],\n",
              "       [  3.2018, 114.95  ,  99.14  , 110.48  ,  80.03  , 113.42  ],\n",
              "       [  4.2018, 121.17  , 101.6   , 117.73  ,  87.92  , 118.15  ],\n",
              "       [  5.2018, 122.48  , 113.03  , 122.07  ,  97.07  , 114.    ],\n",
              "       [  6.2018, 127.58  , 119.54  , 128.58  , 106.52  , 124.91  ],\n",
              "       [  7.2018, 131.89  , 118.09  , 131.12  , 108.93  , 126.06  ],\n",
              "       [  8.2018, 129.36  , 107.32  , 127.08  ,  95.17  , 123.3   ],\n",
              "       [  9.2018, 104.26  ,  82.6   , 110.99  ,  74.31  , 111.61  ],\n",
              "       [ 10.2018,  93.45  ,  77.4   ,  97.43  ,  62.63  ,  98.82  ],\n",
              "       [ 11.2018,  92.93  ,  71.77  ,  92.05  ,  69.92  ,  97.47  ],\n",
              "       [ 12.2018,  96.15  ,  71.25  ,  93.21  ,  70.58  , 103.01  ],\n",
              "       [  1.2019,  99.1   ,  71.35  ,  98.58  ,  74.63  , 109.36  ],\n",
              "       [  2.2019, 103.    ,  73.62  , 100.23  ,  78.69  , 104.79  ],\n",
              "       [  3.2019, 103.31  ,  76.2   , 102.09  ,  81.82  , 105.09  ],\n",
              "       [  4.2019, 103.01  ,  74.15  , 101.73  ,  82.36  , 103.16  ],\n",
              "       [  5.2019, 107.37  ,  75.67  , 107.28  ,  89.44  , 106.52  ],\n",
              "       [  6.2019, 116.91  ,  79.2   , 115.35  , 102.01  , 121.68  ],\n",
              "       [  7.2019, 125.29  ,  80.85  , 123.03  , 116.12  , 125.32  ],\n",
              "       [  8.2019, 123.94  ,  85.33  , 123.08  ,  92.06  , 123.41  ],\n",
              "       [  9.2019, 113.03  ,  75.02  , 109.71  ,  82.7   , 108.48  ],\n",
              "       [ 10.2019, 102.19  ,  77.95  ,  97.22  ,  66.62  ,  98.73  ],\n",
              "       [ 11.2019,  97.83  ,  78.98  ,  95.75  ,  68.11  ,  96.25  ],\n",
              "       [ 12.2019, 101.07  ,  76.55  ,  97.09  ,  73.48  , 100.12  ],\n",
              "       [  1.202 , 103.44  ,  74.89  ,  98.18  ,  82.04  , 101.29  ],\n",
              "       [  2.202 , 108.23  ,  70.    , 103.1   ,  81.19  , 102.81  ],\n",
              "       [  3.202 , 110.28  ,  81.53  , 110.6   ,  95.05  , 108.53  ]])"
            ]
          },
          "metadata": {},
          "execution_count": 14
        }
      ]
    },
    {
      "cell_type": "code",
      "source": [
        "url2 = \"https://gist.githubusercontent.com/ahcamachod/9be09de793dc3bf1e6c3d98eb4e5b1ef/raw/21b85572693200040e11284ef6dcfc3457ec8e11/citrus.csv\"\n",
        "datos2 = np.loadtxt(url2,delimiter=',',skiprows=1,usecols=np.arange(1,6,1))\n",
        "datos2"
      ],
      "metadata": {
        "colab": {
          "base_uri": "https://localhost:8080/"
        },
        "id": "bFgy3ILGz2Hz",
        "outputId": "e845493a-4ef1-4af5-c44e-675e8d19f455"
      },
      "execution_count": 28,
      "outputs": [
        {
          "output_type": "execute_result",
          "data": {
            "text/plain": [
              "array([[  2.96,  86.76, 172.  ,  85.  ,   2.  ],\n",
              "       [  3.91,  88.05, 166.  ,  78.  ,   3.  ],\n",
              "       [  4.42,  95.17, 156.  ,  81.  ,   2.  ],\n",
              "       ...,\n",
              "       [ 15.59, 256.5 , 168.  ,  82.  ,  20.  ],\n",
              "       [ 15.92, 260.14, 142.  ,  72.  ,  11.  ],\n",
              "       [ 16.45, 261.51, 152.  ,  74.  ,   2.  ]])"
            ]
          },
          "metadata": {},
          "execution_count": 28
        }
      ]
    },
    {
      "cell_type": "code",
      "source": [
        "datos2.ndim"
      ],
      "metadata": {
        "colab": {
          "base_uri": "https://localhost:8080/"
        },
        "id": "X1GSJ4ZIz4z2",
        "outputId": "172440df-f86d-4c8c-fa44-71c5cd30cf57"
      },
      "execution_count": 29,
      "outputs": [
        {
          "output_type": "execute_result",
          "data": {
            "text/plain": [
              "2"
            ]
          },
          "metadata": {},
          "execution_count": 29
        }
      ]
    },
    {
      "cell_type": "code",
      "source": [
        "datos2.shape"
      ],
      "metadata": {
        "colab": {
          "base_uri": "https://localhost:8080/"
        },
        "id": "4S2g2Hgd2dJg",
        "outputId": "c5dbbfad-1236-458d-dbcc-cc037adadc2a"
      },
      "execution_count": 30,
      "outputs": [
        {
          "output_type": "execute_result",
          "data": {
            "text/plain": [
              "(10000, 5)"
            ]
          },
          "metadata": {},
          "execution_count": 30
        }
      ]
    },
    {
      "cell_type": "code",
      "source": [
        "datos2_transpuestos = datos2.T\n",
        "datos2_transpuestos"
      ],
      "metadata": {
        "colab": {
          "base_uri": "https://localhost:8080/"
        },
        "id": "qpI8PbpE2fc2",
        "outputId": "1a4598b8-ec18-456d-ea2c-d7faaa3e7694"
      },
      "execution_count": 31,
      "outputs": [
        {
          "output_type": "execute_result",
          "data": {
            "text/plain": [
              "array([[  2.96,   3.91,   4.42, ...,  15.59,  15.92,  16.45],\n",
              "       [ 86.76,  88.05,  95.17, ..., 256.5 , 260.14, 261.51],\n",
              "       [172.  , 166.  , 156.  , ..., 168.  , 142.  , 152.  ],\n",
              "       [ 85.  ,  78.  ,  81.  , ...,  82.  ,  72.  ,  74.  ],\n",
              "       [  2.  ,   3.  ,   2.  , ...,  20.  ,  11.  ,   2.  ]])"
            ]
          },
          "metadata": {},
          "execution_count": 31
        }
      ]
    }
  ]
}